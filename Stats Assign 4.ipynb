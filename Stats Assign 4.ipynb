{
 "cells": [
  {
   "cell_type": "markdown",
   "id": "2106269b",
   "metadata": {},
   "source": [
    "1. What is the definition of covariance? Create the formula for it."
   ]
  },
  {
   "cell_type": "markdown",
   "id": "47511629",
   "metadata": {},
   "source": [
    "Covariance simply means finding relationship between the random variables.                                                 \n",
    "population Covariance = summation of ((Xi-population mean of X) * (Yi-population mean of Y))/N                        \n",
    "Sample Covariance = summation of ((Xi-sample mean of X) * (Yi-sample mean of Y))/n-1"
   ]
  },
  {
   "cell_type": "markdown",
   "id": "73a2e734",
   "metadata": {},
   "source": [
    "2. What makes Correlations better than Covariance?"
   ]
  },
  {
   "cell_type": "markdown",
   "id": "2e074385",
   "metadata": {},
   "source": [
    "In Covariance we will be finding relationship between the random variables but In Correlation we can find the strength\n",
    "of the relationship that is how much positive or negative the data is dispersed."
   ]
  },
  {
   "cell_type": "markdown",
   "id": "9da8e2c4",
   "metadata": {},
   "source": [
    "3. Explain the process as well as Pearson and Spearman Correlation."
   ]
  },
  {
   "cell_type": "markdown",
   "id": "2e8bebdb",
   "metadata": {},
   "source": [
    "Pearson Correlation gives us the strength of the relationship that is how much positive or negative the data is dispersed and Pearson Correlation goes well with Linear kind of data where there is a fixed range -1 to 1.\n",
    "\n",
    "Spearman Correlation goes well with Non-linear kind of data where we will be apply rank in ascending order for the Pearson Correlation."
   ]
  },
  {
   "cell_type": "markdown",
   "id": "4f073503",
   "metadata": {},
   "source": [
    "4. What are the advantages of Spearman Correlation over Pearson Correlation?"
   ]
  },
  {
   "cell_type": "markdown",
   "id": "1caf60df",
   "metadata": {},
   "source": [
    "In Pearson Correlation we can work only only the Linear data but in Spearman Correlation goes well with Non-linear kind of data with ranking."
   ]
  },
  {
   "cell_type": "markdown",
   "id": "d0cfd9a4",
   "metadata": {},
   "source": [
    "5. Describe the Central Limit Theorem."
   ]
  },
  {
   "cell_type": "markdown",
   "id": "076043ae",
   "metadata": {},
   "source": [
    "The Central Limit Theorem is used in Hypothesis testing, Whenever we take a random variable which is may or may not be GD. If i take a sample of n>=30 and take all the mean of all those samples, then those entire samples will belond to GD with the mean approx equals population mean.                                                                                                \n",
    "\n",
    "X ~ GD(population mean,((SD)^2/n)), n>=30"
   ]
  },
  {
   "cell_type": "code",
   "execution_count": null,
   "id": "a707b157",
   "metadata": {},
   "outputs": [],
   "source": []
  }
 ],
 "metadata": {
  "kernelspec": {
   "display_name": "Python 3 (ipykernel)",
   "language": "python",
   "name": "python3"
  },
  "language_info": {
   "codemirror_mode": {
    "name": "ipython",
    "version": 3
   },
   "file_extension": ".py",
   "mimetype": "text/x-python",
   "name": "python",
   "nbconvert_exporter": "python",
   "pygments_lexer": "ipython3",
   "version": "3.9.7"
  }
 },
 "nbformat": 4,
 "nbformat_minor": 5
}
